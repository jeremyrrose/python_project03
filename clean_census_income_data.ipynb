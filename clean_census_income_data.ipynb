{
 "cells": [
  {
   "cell_type": "code",
   "execution_count": 31,
   "metadata": {},
   "outputs": [],
   "source": [
    "# Pandas used for testing CSV files and not necessary at this stage\n",
    "# import pandas as pd"
   ]
  },
  {
   "cell_type": "code",
   "execution_count": 32,
   "metadata": {},
   "outputs": [],
   "source": [
    "def census_txt_to_csv(file_path, file_name, new_file_path='', new_file_name=''):\n",
    "    \"\"\"\n",
    "    Reads Census Bureau data for CT from .txt files, cleans it, and writes .csv\n",
    "    \"\"\"\n",
    "    if new_file_name == '':\n",
    "        new_file_name = (file_name[:-4] + '.csv')\n",
    "        \n",
    "    if new_file_path == '':\n",
    "        new_file_path = file_path\n",
    "        \n",
    "    orig_txt = open(file_path + '/' + file_name, 'r')\n",
    "    new_csv = open(new_file_path + '/' + new_file_name, 'w')\n",
    "    \n",
    "    # define titles for new dataframes\n",
    "    new_csv.write('Jurisdiction,MedianHouseholdIncome,%inPoverty,TotalInPoverty,%MinorsInPoverty,TotalMinorsInPoverty\\n')\n",
    "    \n",
    "    for line in orig_txt:\n",
    "        \n",
    "        # Parse fields from each line\n",
    "        total_in_poverty = line[7:15].strip()\n",
    "        pct_total_in_poverty = line[34:38].strip()\n",
    "        minors_in_poverty = line[49:57].strip()\n",
    "        pct_minors_in_poverty = line[76:80].strip()\n",
    "        median_household_income = line[133:139].strip()\n",
    "        state_or_county_name = line[193:238].strip().replace(' County','')\n",
    "        \n",
    "        # rewrite as CSV\n",
    "        list = [state_or_county_name,median_household_income,pct_total_in_poverty,total_in_poverty,pct_minors_in_poverty,minors_in_poverty]\n",
    "        new_csv.write(','.join(list) + '\\n')\n",
    "        \n",
    "    orig_txt.close()\n",
    "    new_csv.close()\n",
    "        \n",
    "# process all files from 2009-2018\n",
    "for year in ('09','10','11','12','13','14','15','16','17','18'):\n",
    "    census_txt_to_csv('./data/txt','est' + year + '-ct.txt','./data/income_poverty_csv')"
   ]
  },
  {
   "cell_type": "code",
   "execution_count": null,
   "metadata": {},
   "outputs": [],
   "source": []
  }
 ],
 "metadata": {
  "kernelspec": {
   "display_name": "Python 3",
   "language": "python",
   "name": "python3"
  },
  "language_info": {
   "codemirror_mode": {
    "name": "ipython",
    "version": 3
   },
   "file_extension": ".py",
   "mimetype": "text/x-python",
   "name": "python",
   "nbconvert_exporter": "python",
   "pygments_lexer": "ipython3",
   "version": "3.7.7"
  }
 },
 "nbformat": 4,
 "nbformat_minor": 4
}
