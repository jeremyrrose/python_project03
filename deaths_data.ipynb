{
 "cells": [
  {
   "cell_type": "code",
   "execution_count": 43,
   "metadata": {},
   "outputs": [
    {
     "name": "stdout",
     "output_type": "stream",
     "text": [
      "1100\n",
      "797\n"
     ]
    }
   ],
   "source": [
    "import pandas as pd\n",
    "import urllib, json, requests\n",
    "\n",
    "# read CT accidental overdose data\n",
    "deaths = pd.read_csv('data/Accidental_Drug_Related_Deaths_2012-2018.csv')\n",
    "\n",
    "# convert date to datetime and extract year\n",
    "deaths[\"Date\"] = pd.to_datetime(deaths[\"Date\"])\n",
    "deaths[\"Year\"] = (deaths.Date.dt.to_period('Y')).astype('str')\n",
    "\n",
    "# check number of na values\n",
    "print(len(deaths[deaths[\"DeathCounty\"].isna()]))\n",
    "print(len(deaths[deaths[\"ResidenceCounty\"].isna()]))"
   ]
  },
  {
   "cell_type": "code",
   "execution_count": 44,
   "metadata": {},
   "outputs": [
    {
     "name": "stdout",
     "output_type": "stream",
     "text": [
      "626\n",
      "555\n"
     ]
    }
   ],
   "source": [
    "def fill_county_by_geoloc_match(record):\n",
    "    \"\"\"\n",
    "    Fills blank ResidenceCounty and DeathCounty values if a record is missing one and the geolocation data for residence city and death city matches.\n",
    "    \"\"\"\n",
    "    if type(record[\"DeathCounty\"]) == float and record[\"DeathCityGeo\"] == record[\"ResidenceCityGeo\"]:\n",
    "        record[\"DeathCounty\"] = record[\"ResidenceCounty\"]\n",
    "    if type(record[\"ResidenceCounty\"]) == float and record[\"DeathCityGeo\"] == record[\"ResidenceCityGeo\"]:\n",
    "        record[\"ResidenceCounty\"] = record[\"DeathCounty\"] \n",
    "    return record\n",
    "        \n",
    "deaths = deaths.apply(lambda x: fill_county_by_geoloc_match(x), axis=1)\n",
    "\n",
    "# check number of na values\n",
    "print(len(deaths[deaths[\"DeathCounty\"].isna()]))\n",
    "print(len(deaths[deaths[\"ResidenceCounty\"].isna()]))"
   ]
  },
  {
   "cell_type": "code",
   "execution_count": 41,
   "metadata": {},
   "outputs": [
    {
     "name": "stdout",
     "output_type": "stream",
     "text": [
      "0\n",
      "24\n"
     ]
    }
   ],
   "source": [
    "def find_county_by_geolocation(record, county_type):\n",
    "    \"\"\"\n",
    "    Queries FCC API for county name based on geolocation coordinates.\n",
    "    \"\"\"\n",
    "    if county_type == \"res\":\n",
    "        coordinates = record[-3][record[-3].find('(')+1:-1].split(', ')\n",
    "    else:\n",
    "        coordinates = record[-4][record[-4].find('(')+1:-1].split(', ')\n",
    "    \n",
    "    with urllib.request.urlopen(\"https://geo.fcc.gov/api/census/area?lat=\" + coordinates[0] + \"&lon=\" + coordinates[1] + \"&format=json\") as url:\n",
    "        data = json.loads(url.read().decode())\n",
    "        county_name = data[\"results\"][0][\"county_name\"]\n",
    "        return county_name\n",
    "\n",
    "def fill_county_if_nan(record):\n",
    "    \"\"\"\n",
    "    Fills DeathCounty and ResidenceCounty values (if NaN) via find_county_by_geolocation() \n",
    "    \"\"\"\n",
    "    \n",
    "    if type(record[\"ResidenceCounty\"]) == float and type(record[\"ResidenceCityGeo\"]) == str:\n",
    "        county = find_county_by_geolocation(record, 'res')\n",
    "        record[\"ResidenceCounty\"] = county.upper()\n",
    "    \n",
    "    if type(record[\"DeathCounty\"]) == float:\n",
    "        county = find_county_by_geolocation(record, 'death')\n",
    "        record[\"DeathCounty\"] = county.upper()\n",
    "        \n",
    "    return record\n",
    "    \n",
    "deaths = deaths.apply(lambda x: fill_county_if_nan(x), axis=1)\n",
    "\n",
    "# check number of na values\n",
    "print(len(deaths[deaths[\"DeathCounty\"].isna()]))\n",
    "print(len(deaths[deaths[\"ResidenceCounty\"].isna()]))"
   ]
  },
  {
   "cell_type": "code",
   "execution_count": 40,
   "metadata": {},
   "outputs": [
    {
     "name": "stdout",
     "output_type": "stream",
     "text": [
      "[['FAIRFIELD', '2012', 51, 52], ['FAIRFIELD', '2013', 83, 94], ['FAIRFIELD', '2014', 76, 91], ['FAIRFIELD', '2015', 106, 103], ['FAIRFIELD', '2016', 159, 165], ['FAIRFIELD', '2017', 147, 165], ['FAIRFIELD', '2018', 148, 151], ['HARTFORD', '2012', 92, 101], ['HARTFORD', '2013', 119, 132], ['HARTFORD', '2014', 142, 166], ['HARTFORD', '2015', 189, 212], ['HARTFORD', '2016', 255, 284], ['HARTFORD', '2017', 284, 338], ['HARTFORD', '2018', 283, 339], ['NEW HAVEN', '2012', 90, 99], ['NEW HAVEN', '2013', 130, 135], ['NEW HAVEN', '2014', 140, 141], ['NEW HAVEN', '2015', 188, 211], ['NEW HAVEN', '2016', 233, 263], ['NEW HAVEN', '2017', 274, 288], ['NEW HAVEN', '2018', 239, 269], ['NEW LONDON', '2012', 43, 41], ['NEW LONDON', '2013', 51, 56], ['NEW LONDON', '2014', 49, 51], ['NEW LONDON', '2015', 59, 61], ['NEW LONDON', '2016', 85, 90], ['NEW LONDON', '2017', 85, 81], ['NEW LONDON', '2018', 89, 91], ['LITCHFIELD', '2012', 20, 17], ['LITCHFIELD', '2013', 35, 36], ['LITCHFIELD', '2014', 41, 36], ['LITCHFIELD', '2015', 51, 47], ['LITCHFIELD', '2016', 38, 29], ['LITCHFIELD', '2017', 54, 49], ['LITCHFIELD', '2018', 69, 65], ['MIDDLESEX', '2012', 26, 19], ['MIDDLESEX', '2013', 33, 17], ['MIDDLESEX', '2014', 48, 24], ['MIDDLESEX', '2015', 64, 40], ['MIDDLESEX', '2016', 63, 34], ['MIDDLESEX', '2017', 86, 45], ['MIDDLESEX', '2018', 87, 44], ['WINDHAM', '2012', 13, 14], ['WINDHAM', '2013', 11, 9], ['WINDHAM', '2014', 21, 24], ['WINDHAM', '2015', 27, 33], ['WINDHAM', '2016', 27, 27], ['WINDHAM', '2017', 41, 44], ['WINDHAM', '2018', 36, 33], ['TOLLAND', '2012', 12, 12], ['TOLLAND', '2013', 9, 10], ['TOLLAND', '2014', 26, 25], ['TOLLAND', '2015', 25, 20], ['TOLLAND', '2016', 30, 25], ['TOLLAND', '2017', 30, 28], ['TOLLAND', '2018', 33, 26]]\n"
     ]
    }
   ],
   "source": [
    "\"\"\"\n",
    "Create new array with county death numbers by year.\n",
    "\"\"\"\n",
    "\n",
    "counties = ('FAIRFIELD', 'HARTFORD', 'NEW HAVEN', 'NEW LONDON',\n",
    "       'LITCHFIELD', 'MIDDLESEX', 'WINDHAM', 'TOLLAND')\n",
    "years = ('2012', '2013', '2014', '2015', '2016', '2017', '2018')\n",
    "deaths_county_and_year = []\n",
    "\n",
    "for county in counties:\n",
    "    \n",
    "    residence_county = deaths[deaths[\"ResidenceCounty\"] == county]\n",
    "    death_county = deaths[deaths[\"DeathCounty\"] == county]\n",
    "    \n",
    "    for year in years:\n",
    "        \n",
    "        deaths_county_and_year.append([\n",
    "            county,\n",
    "            year,\n",
    "            len(residence_county[residence_county[\"Year\"] == year]),\n",
    "            len(death_county[death_county[\"Year\"] == year])\n",
    "        ])\n",
    "\n",
    "# print to test\n",
    "print(deaths_county_and_year)"
   ]
  },
  {
   "cell_type": "code",
   "execution_count": 42,
   "metadata": {},
   "outputs": [],
   "source": [
    "\"\"\"\n",
    "Convert deaths data to dataframe and write to CSV\n",
    "\"\"\"\n",
    "\n",
    "deaths_by_county = pd.DataFrame(deaths_county_and_year)\n",
    "deaths_by_county.columns = ('Jurisdiction', \n",
    "        'Year',\n",
    "        'ResidentDeaths',\n",
    "        'DeathsInCounty'\n",
    "                           )\n",
    "deaths_by_county[\"Jurisdiction\"] = deaths_by_county[\"Jurisdiction\"].str.title()\n",
    "deaths_by_county.to_csv('data/deaths_by_county.csv')"
   ]
  },
  {
   "cell_type": "code",
   "execution_count": null,
   "metadata": {},
   "outputs": [],
   "source": []
  }
 ],
 "metadata": {
  "kernelspec": {
   "display_name": "Python 3",
   "language": "python",
   "name": "python3"
  },
  "language_info": {
   "codemirror_mode": {
    "name": "ipython",
    "version": 3
   },
   "file_extension": ".py",
   "mimetype": "text/x-python",
   "name": "python",
   "nbconvert_exporter": "python",
   "pygments_lexer": "ipython3",
   "version": "3.7.7"
  }
 },
 "nbformat": 4,
 "nbformat_minor": 4
}
