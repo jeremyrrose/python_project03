{
 "cells": [
  {
   "cell_type": "code",
   "execution_count": 75,
   "metadata": {},
   "outputs": [],
   "source": [
    "import pandas as pd\n",
    "\n",
    "# read CT accidental overdose data\n",
    "deaths = pd.read_csv('data/Accidental_Drug_Related_Deaths_2012-2018.csv')\n",
    "\n",
    "# convert date to datetime and extract year\n",
    "deaths[\"Date\"] = pd.to_datetime(deaths[\"Date\"])\n",
    "deaths[\"Year\"] = (deaths.Date.dt.to_period('Y')).astype('str')\n"
   ]
  },
  {
   "cell_type": "code",
   "execution_count": 76,
   "metadata": {},
   "outputs": [],
   "source": [
    "# deaths"
   ]
  },
  {
   "cell_type": "code",
   "execution_count": 77,
   "metadata": {},
   "outputs": [
    {
     "data": {
      "text/plain": [
       "[['FAIRFIELD', '2012', 50, 51],\n",
       " ['FAIRFIELD', '2013', 78, 94],\n",
       " ['FAIRFIELD', '2014', 0, 62],\n",
       " ['FAIRFIELD', '2015', 103, 102],\n",
       " ['FAIRFIELD', '2016', 158, 0],\n",
       " ['FAIRFIELD', '2017', 144, 163],\n",
       " ['FAIRFIELD', '2018', 147, 151],\n",
       " ['HARTFORD', '2012', 89, 101],\n",
       " ['HARTFORD', '2013', 114, 132],\n",
       " ['HARTFORD', '2014', 0, 118],\n",
       " ['HARTFORD', '2015', 182, 210],\n",
       " ['HARTFORD', '2016', 255, 0],\n",
       " ['HARTFORD', '2017', 283, 335],\n",
       " ['HARTFORD', '2018', 282, 337],\n",
       " ['NEW HAVEN', '2012', 85, 99],\n",
       " ['NEW HAVEN', '2013', 126, 134],\n",
       " ['NEW HAVEN', '2014', 0, 112],\n",
       " ['NEW HAVEN', '2015', 186, 210],\n",
       " ['NEW HAVEN', '2016', 230, 0],\n",
       " ['NEW HAVEN', '2017', 265, 285],\n",
       " ['NEW HAVEN', '2018', 235, 267],\n",
       " ['NEW LONDON', '2012', 42, 41],\n",
       " ['NEW LONDON', '2013', 50, 56],\n",
       " ['NEW LONDON', '2014', 0, 40],\n",
       " ['NEW LONDON', '2015', 59, 61],\n",
       " ['NEW LONDON', '2016', 85, 0],\n",
       " ['NEW LONDON', '2017', 82, 80],\n",
       " ['NEW LONDON', '2018', 88, 90],\n",
       " ['LITCHFIELD', '2012', 18, 17],\n",
       " ['LITCHFIELD', '2013', 35, 35],\n",
       " ['LITCHFIELD', '2014', 0, 26],\n",
       " ['LITCHFIELD', '2015', 51, 46],\n",
       " ['LITCHFIELD', '2016', 37, 0],\n",
       " ['LITCHFIELD', '2017', 53, 48],\n",
       " ['LITCHFIELD', '2018', 68, 65],\n",
       " ['MIDDLESEX', '2012', 20, 18],\n",
       " ['MIDDLESEX', '2013', 20, 17],\n",
       " ['MIDDLESEX', '2014', 0, 18],\n",
       " ['MIDDLESEX', '2015', 38, 39],\n",
       " ['MIDDLESEX', '2016', 35, 0],\n",
       " ['MIDDLESEX', '2017', 42, 45],\n",
       " ['MIDDLESEX', '2018', 51, 44],\n",
       " ['WINDHAM', '2012', 12, 14],\n",
       " ['WINDHAM', '2013', 11, 9],\n",
       " ['WINDHAM', '2014', 0, 14],\n",
       " ['WINDHAM', '2015', 26, 31],\n",
       " ['WINDHAM', '2016', 27, 0],\n",
       " ['WINDHAM', '2017', 40, 41],\n",
       " ['WINDHAM', '2018', 36, 33],\n",
       " ['TOLLAND', '2012', 11, 11],\n",
       " ['TOLLAND', '2013', 9, 10],\n",
       " ['TOLLAND', '2014', 0, 18],\n",
       " ['TOLLAND', '2015', 25, 20],\n",
       " ['TOLLAND', '2016', 30, 0],\n",
       " ['TOLLAND', '2017', 29, 28],\n",
       " ['TOLLAND', '2018', 32, 26]]"
      ]
     },
     "execution_count": 77,
     "metadata": {},
     "output_type": "execute_result"
    }
   ],
   "source": [
    "counties = ('FAIRFIELD', 'HARTFORD', 'NEW HAVEN', 'NEW LONDON',\n",
    "       'LITCHFIELD', 'MIDDLESEX', 'WINDHAM', 'TOLLAND')\n",
    "years = ('2012', '2013', '2014', '2015', '2016', '2017', '2018')\n",
    "deaths_county_and_year = []\n",
    "\n",
    "for county in counties:\n",
    "    \n",
    "    residence_county = deaths[deaths[\"ResidenceCounty\"] == county]\n",
    "    death_county = deaths[deaths[\"DeathCounty\"] == county]\n",
    "    \n",
    "    for year in years:\n",
    "        \n",
    "        deaths_county_and_year.append([\n",
    "            county,\n",
    "            year,\n",
    "            len(residence_county[residence_county[\"Year\"] == year]),\n",
    "            len(death_county[death_county[\"Year\"] == year])\n",
    "        ])\n",
    "\n",
    "deaths_county_and_year\n"
   ]
  },
  {
   "cell_type": "code",
   "execution_count": 78,
   "metadata": {},
   "outputs": [],
   "source": [
    "deaths_by_county = pd.DataFrame(deaths_county_and_year)\n",
    "deaths_by_county.columns = ('Jurisdiction', \n",
    "        'Year',\n",
    "        'ResidentDeaths',\n",
    "        'DeathsInCounty'\n",
    "                           )\n",
    "deaths_by_county[\"Jurisdiction\"] = deaths_by_county[\"Jurisdiction\"].str.title()\n",
    "deaths_by_county.to_csv('data/deaths_by_county.csv')"
   ]
  },
  {
   "cell_type": "code",
   "execution_count": 79,
   "metadata": {},
   "outputs": [],
   "source": [
    "# deaths[\"DeathCounty\"].unique()"
   ]
  },
  {
   "cell_type": "code",
   "execution_count": null,
   "metadata": {},
   "outputs": [],
   "source": []
  },
  {
   "cell_type": "code",
   "execution_count": null,
   "metadata": {},
   "outputs": [],
   "source": []
  }
 ],
 "metadata": {
  "kernelspec": {
   "display_name": "Python 3",
   "language": "python",
   "name": "python3"
  },
  "language_info": {
   "codemirror_mode": {
    "name": "ipython",
    "version": 3
   },
   "file_extension": ".py",
   "mimetype": "text/x-python",
   "name": "python",
   "nbconvert_exporter": "python",
   "pygments_lexer": "ipython3",
   "version": "3.7.7"
  }
 },
 "nbformat": 4,
 "nbformat_minor": 4
}
