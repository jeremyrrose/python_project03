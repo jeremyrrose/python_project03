{
 "cells": [
  {
   "cell_type": "code",
   "execution_count": 4,
   "metadata": {},
   "outputs": [],
   "source": [
    "\"\"\"\n",
    "Procedure strips county census estimates for Connecticut from national data\n",
    "\"\"\"\n",
    "\n",
    "import pandas as pd\n",
    "\n",
    "# list of desired columns with year-by-year pop estimates\n",
    "total_pop_columns = (\n",
    "    \"CTYNAME\",\n",
    "    \"STNAME\",\n",
    "    \"POPESTIMATE2010\",\n",
    "    \"POPESTIMATE2011\",\n",
    "    \"POPESTIMATE2012\",\n",
    "    \"POPESTIMATE2013\",\n",
    "    \"POPESTIMATE2014\",\n",
    "    \"POPESTIMATE2015\",\n",
    "    \"POPESTIMATE2016\",\n",
    "    \"POPESTIMATE2017\",\n",
    "    \"POPESTIMATE2018\"\n",
    ")\n",
    "df = pd.read_csv('data/census_full/co-est2019-alldata.csv', usecols=total_pop_columns)\n",
    "\n",
    "# find only CT counties, then drop STNAME column\n",
    "df = df[df[\"STNAME\"] == \"Connecticut\"]\n",
    "df.drop(columns=[\"STNAME\"], inplace=True)\n",
    "\n",
    "# rename columns\n",
    "df.columns = (\"County\",\"2010\",\"2011\",\"2012\",\"2013\",\"2014\",\"2015\",\"2016\",\"2017\",\"2018\")\n",
    "\n",
    "# strip county names and set as index\n",
    "df[\"County\"] = df[\"County\"].str[:-7]\n",
    "df.set_index(\"County\", inplace=True)\n",
    "\n",
    "# write to CSV file\n",
    "df.to_csv('data/census_CT.csv')"
   ]
  },
  {
   "cell_type": "code",
   "execution_count": 32,
   "metadata": {},
   "outputs": [],
   "source": []
  },
  {
   "cell_type": "code",
   "execution_count": null,
   "metadata": {},
   "outputs": [],
   "source": []
  },
  {
   "cell_type": "code",
   "execution_count": null,
   "metadata": {},
   "outputs": [],
   "source": []
  }
 ],
 "metadata": {
  "kernelspec": {
   "display_name": "Python 3",
   "language": "python",
   "name": "python3"
  },
  "language_info": {
   "codemirror_mode": {
    "name": "ipython",
    "version": 3
   },
   "file_extension": ".py",
   "mimetype": "text/x-python",
   "name": "python",
   "nbconvert_exporter": "python",
   "pygments_lexer": "ipython3",
   "version": "3.7.7"
  }
 },
 "nbformat": 4,
 "nbformat_minor": 4
}
