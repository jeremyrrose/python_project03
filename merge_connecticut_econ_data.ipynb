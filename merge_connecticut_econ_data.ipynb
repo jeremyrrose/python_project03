{
 "cells": [
  {
   "cell_type": "code",
   "execution_count": 1,
   "metadata": {},
   "outputs": [],
   "source": [
    "import pandas as pd\n",
    "years_to_include = (\"2012\",\"2013\",\"2014\",\"2015\",\"2016\",\"2017\",\"2018\")"
   ]
  },
  {
   "cell_type": "code",
   "execution_count": 94,
   "metadata": {},
   "outputs": [],
   "source": [
    "def unemployment_rate(year):\n",
    "    \"\"\"\n",
    "    Function returns average unemployment rate for each county for each two-digit year passed as a string\n",
    "    \"\"\"\n",
    "    \n",
    "    # import US BLS labor stats; ignore noise rows at file start and improve column names\n",
    "    df = pd.read_excel('./data/labor_force_xls/laucnty' + year + '.xlsx', header=4, usecols=[\"County Name/State Abbreviation\",\"(%)\"])\n",
    "    df.columns = (\"County\",\"%Unemployed\")\n",
    "\n",
    "    # find only CT counties\n",
    "    ct_mask = df[\"County\"].str[-2:] == \"CT\"\n",
    "    df = df[ct_mask]\n",
    "\n",
    "    # strip to county name and set index\n",
    "    df[\"County\"] = df[\"County\"].str[:-11]\n",
    "    return df.set_index(\"County\")\n",
    "    "
   ]
  },
  {
   "cell_type": "code",
   "execution_count": 141,
   "metadata": {},
   "outputs": [],
   "source": [
    "def create_composite(years):\n",
    "    \n",
    "    \"\"\"\n",
    "    Function returns a composite of population, economic, and unemployment data for each county by year for desired list of years\n",
    "    \"\"\"\n",
    "    \n",
    "    \n",
    "    # load population data for all counties\n",
    "    census_CT = pd.read_csv('data/census_CT.csv')\n",
    "    census_CT.loc[0,\"County\"] = \"Connecticut\"\n",
    "    census_CT.set_index(\"County\", inplace=True)\n",
    "    \n",
    "    # create new DataFrame to fill\n",
    "    composite = pd.DataFrame()\n",
    "    \n",
    "    for year in years:\n",
    "            \n",
    "        # load economic indicators for given year\n",
    "        econ = pd.read_csv('data/income_poverty_csv/est' + year[-2:] + '-ct.csv')\n",
    "        econ.set_index('Jurisdiction', inplace=True)\n",
    "\n",
    "        # get unemployment rates for given year\n",
    "        unemp = unemployment_rate(year[-2:])\n",
    "\n",
    "        # join unemployment and population data on jurisdiction/county name\n",
    "        econ = econ.join(unemp)\n",
    "        econ = econ.join(census_CT[year])\n",
    "        \n",
    "        # relabel population column\n",
    "        econ.rename(columns = {\n",
    "            year : \"Population\"\n",
    "        }, inplace=True)\n",
    "                \n",
    "        \"\"\"\n",
    "        Subroutine calculates statewide unemployment from weighted county unemp and pop\n",
    "        \"\"\"        \n",
    "        df = econ.query('Jurisdiction != \"Connecticut\"')\n",
    "        percentages = list(df[\"%Unemployed\"])\n",
    "        pops = list(df[\"Population\"])\n",
    "        \n",
    "        unemp_sum = 0\n",
    "        i = 0\n",
    "        while i < len(pops):\n",
    "            unemp_sum += pops[i] * percentages[i]\n",
    "            i += 1\n",
    "        \n",
    "        econ.loc[\"Connecticut\",\"%Unemployed\"] = unemp_sum / econ.loc[\"Connecticut\"][\"Population\"]\n",
    "        \"\"\"\n",
    "        End subroutine\n",
    "        \"\"\"\n",
    "        \n",
    "        # add state-normalized poverty and unemployment levels\n",
    "        econ[\"pov100\"] = (econ['%inPoverty'] / econ.loc[\"Connecticut\",\"%inPoverty\"] * 100).astype('int')\n",
    "        econ[\"povMinors100\"] = (econ['%MinorsInPoverty'] / econ.loc[\"Connecticut\",\"%MinorsInPoverty\"] * 100).astype('int')\n",
    "        econ[\"unemp100\"] = (econ['%Unemployed'] / econ.loc[\"Connecticut\",\"%Unemployed\"] * 100).astype('int')\n",
    "        \n",
    "                \n",
    "        # add new column \"Year\" with current year; reorder columns\n",
    "        econ[\"Year\"] = year\n",
    "        econ = econ[list(econ.columns)[-1:]+list(econ.columns)[0:-1]]\n",
    "        \n",
    "        # concatenate current year to composite\n",
    "        composite = pd.concat([composite, econ])\n",
    "        \n",
    "    # return composite with numbered index\n",
    "    return composite.reset_index()\n",
    "                "
   ]
  },
  {
   "cell_type": "code",
   "execution_count": 143,
   "metadata": {},
   "outputs": [],
   "source": [
    "# create composite and write to CSV\n",
    "CT_econ_2012_through_2018 = create_composite(years_to_include)\n",
    "CT_econ_2012_through_2018.to_csv('data/CT_composite.csv')"
   ]
  },
  {
   "cell_type": "code",
   "execution_count": null,
   "metadata": {},
   "outputs": [],
   "source": []
  },
  {
   "cell_type": "code",
   "execution_count": null,
   "metadata": {},
   "outputs": [],
   "source": []
  }
 ],
 "metadata": {
  "kernelspec": {
   "display_name": "Python 3",
   "language": "python",
   "name": "python3"
  },
  "language_info": {
   "codemirror_mode": {
    "name": "ipython",
    "version": 3
   },
   "file_extension": ".py",
   "mimetype": "text/x-python",
   "name": "python",
   "nbconvert_exporter": "python",
   "pygments_lexer": "ipython3",
   "version": "3.7.7"
  }
 },
 "nbformat": 4,
 "nbformat_minor": 4
}
